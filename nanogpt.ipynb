{
 "cells": [
  {
   "cell_type": "code",
   "execution_count": 1,
   "metadata": {},
   "outputs": [],
   "source": [
    "import torch"
   ]
  },
  {
   "cell_type": "code",
   "execution_count": 2,
   "metadata": {},
   "outputs": [
    {
     "data": {
      "text/plain": [
       "(1115393, 65)"
      ]
     },
     "execution_count": 2,
     "metadata": {},
     "output_type": "execute_result"
    }
   ],
   "source": [
    "text = open('dataset.txt').read()\n",
    "characters = sorted(list(set(text)))\n",
    "\n",
    "stoi = { c:i for i, c in enumerate(characters)}\n",
    "\n",
    "itos = { i:c for i, c in enumerate(characters)}\n",
    "\n",
    "len(text), len(characters)"
   ]
  },
  {
   "cell_type": "code",
   "execution_count": 3,
   "metadata": {},
   "outputs": [
    {
     "data": {
      "text/plain": [
       "'cuda'"
      ]
     },
     "execution_count": 3,
     "metadata": {},
     "output_type": "execute_result"
    }
   ],
   "source": [
    "device = 'cuda' if torch.cuda.is_available() else 'cpu'\n",
    "\n",
    "device"
   ]
  },
  {
   "cell_type": "code",
   "execution_count": 4,
   "metadata": {},
   "outputs": [],
   "source": [
    "batch_size = 4\n",
    "block_size = 8"
   ]
  },
  {
   "cell_type": "code",
   "execution_count": 5,
   "metadata": {},
   "outputs": [
    {
     "data": {
      "text/plain": [
       "(1003853, 111540)"
      ]
     },
     "execution_count": 5,
     "metadata": {},
     "output_type": "execute_result"
    }
   ],
   "source": [
    "train_ratio = 0.9\n",
    "train_size = int(len(text)*train_ratio)\n",
    "train_text, val_text = text[:train_size], text[train_size:]\n",
    "\n",
    "len(train_text), len(val_text)"
   ]
  },
  {
   "cell_type": "code",
   "execution_count": 6,
   "metadata": {},
   "outputs": [
    {
     "data": {
      "text/plain": [
       "([39, 40, 41], 'abc')"
      ]
     },
     "execution_count": 6,
     "metadata": {},
     "output_type": "execute_result"
    }
   ],
   "source": [
    "encode = lambda s : [stoi[c] for c in s]\n",
    "decode = lambda li : \"\".join([itos[i] for i in li])\n",
    "\n",
    "encode(\"abc\"), decode([39,40,41])"
   ]
  },
  {
   "cell_type": "code",
   "execution_count": 7,
   "metadata": {},
   "outputs": [
    {
     "data": {
      "text/plain": [
       "(1003853, 111540)"
      ]
     },
     "execution_count": 7,
     "metadata": {},
     "output_type": "execute_result"
    }
   ],
   "source": [
    "train = torch.tensor(encode(train_text), dtype=torch.long)\n",
    "val = torch.tensor(encode(val_text), dtype=torch.long)\n",
    "\n",
    "len(train), len(val)"
   ]
  },
  {
   "cell_type": "code",
   "execution_count": 8,
   "metadata": {},
   "outputs": [
    {
     "data": {
      "text/plain": [
       "tensor([[53, 59,  6,  1, 58, 56, 47, 40],\n",
       "        [49, 43, 43, 54,  1, 47, 58,  1],\n",
       "        [13, 52, 45, 43, 50, 53,  8,  0],\n",
       "        [ 1, 39,  1, 46, 53, 59, 57, 43]])"
      ]
     },
     "execution_count": 8,
     "metadata": {},
     "output_type": "execute_result"
    }
   ],
   "source": [
    "torch.manual_seed(1337)\n",
    "\n",
    "def get_batches(type):\n",
    "    if type == 'train':\n",
    "        data = train\n",
    "    else:\n",
    "        data = val\n",
    "\n",
    "    start_points = torch.randint(len(data) - block_size, (batch_size,))\n",
    "    \n",
    "    x = [data[i: i + block_size] for i in start_points]        \n",
    "    y = [data[i + 1: i + block_size + 1] for i in start_points]    \n",
    "\n",
    "    return torch.stack(x), torch.stack(y)\n",
    "\n",
    "xb, yb = get_batches('train')\n",
    "\n",
    "xb"
   ]
  },
  {
   "cell_type": "code",
   "execution_count": 9,
   "metadata": {},
   "outputs": [
    {
     "data": {
      "text/plain": [
       "tensor([[53, 59,  6,  1, 58, 56, 47, 40],\n",
       "        [49, 43, 43, 54,  1, 47, 58,  1],\n",
       "        [13, 52, 45, 43, 50, 53,  8,  0],\n",
       "        [ 1, 39,  1, 46, 53, 59, 57, 43]], device='cuda:0')"
      ]
     },
     "execution_count": 9,
     "metadata": {},
     "output_type": "execute_result"
    }
   ],
   "source": [
    "xb.to('cuda')"
   ]
  },
  {
   "cell_type": "code",
   "execution_count": 10,
   "metadata": {},
   "outputs": [
    {
     "name": "stdout",
     "output_type": "stream",
     "text": [
      "Context: o -> Prediction: u\n",
      "Context: ou -> Prediction: ,\n",
      "Context: ou, -> Prediction:  \n",
      "Context: ou,  -> Prediction: t\n",
      "Context: ou, t -> Prediction: r\n",
      "Context: ou, tr -> Prediction: i\n",
      "Context: ou, tri -> Prediction: b\n",
      "Context: ou, trib -> Prediction: u\n",
      "Context: k -> Prediction: e\n",
      "Context: ke -> Prediction: e\n",
      "Context: kee -> Prediction: p\n",
      "Context: keep -> Prediction:  \n",
      "Context: keep  -> Prediction: i\n",
      "Context: keep i -> Prediction: t\n",
      "Context: keep it -> Prediction:  \n",
      "Context: keep it  -> Prediction: t\n",
      "Context: A -> Prediction: n\n",
      "Context: An -> Prediction: g\n",
      "Context: Ang -> Prediction: e\n",
      "Context: Ange -> Prediction: l\n",
      "Context: Angel -> Prediction: o\n",
      "Context: Angelo -> Prediction: .\n",
      "Context: Angelo. -> Prediction: \n",
      "\n",
      "Context: Angelo.\n",
      " -> Prediction: N\n",
      "Context:   -> Prediction: a\n",
      "Context:  a -> Prediction:  \n",
      "Context:  a  -> Prediction: h\n",
      "Context:  a h -> Prediction: o\n",
      "Context:  a ho -> Prediction: u\n",
      "Context:  a hou -> Prediction: s\n",
      "Context:  a hous -> Prediction: e\n",
      "Context:  a house -> Prediction: \n",
      "\n"
     ]
    }
   ],
   "source": [
    "for i, b in enumerate(xb):\n",
    "    for j in range(block_size):\n",
    "        current_context = b[: j + 1]\n",
    "        prediction = yb[i][j]\n",
    "\n",
    "        ints = [ix.item() for ix in current_context]\n",
    "        print(f\"Context: {(decode(ints))} -> Prediction: {itos[prediction.item()]}\")"
   ]
  },
  {
   "cell_type": "code",
   "execution_count": 11,
   "metadata": {},
   "outputs": [
    {
     "data": {
      "text/plain": [
       "(65, 65)"
      ]
     },
     "execution_count": 11,
     "metadata": {},
     "output_type": "execute_result"
    }
   ],
   "source": [
    "embedding_dim = (len(characters), len(characters))\n",
    "embedding_dim"
   ]
  },
  {
   "cell_type": "code",
   "execution_count": 12,
   "metadata": {},
   "outputs": [],
   "source": [
    "temp = None"
   ]
  },
  {
   "cell_type": "code",
   "execution_count": 27,
   "metadata": {},
   "outputs": [],
   "source": [
    "import torch.nn as nn\n",
    "import torch.nn.functional as F\n",
    "\n",
    "class Model(nn.Module):\n",
    "    def __init__(self, emb_dims):\n",
    "        super(Model, self).__init__()\n",
    "        self.temp = None\n",
    "        self.embedding_table = nn.Embedding(emb_dims[0], emb_dims[1])\n",
    "\n",
    "    def forward(self, x, y=None):\n",
    "        logits = self.embedding_table(x)\n",
    "        if y is None:\n",
    "            return logits, None\n",
    "        B, T, C = logits.shape\n",
    "        print(B, T, C)\n",
    "        # cross entropy expects \n",
    "        logits = logits.view(B*T, C)\n",
    "        y = y.view(B*T)\n",
    "        loss = F.cross_entropy(input=logits, target=y)\n",
    "        return logits, loss\n",
    "    \n",
    "    def generate(self, idx, max_tokens):\n",
    "        for i in range(0, max_tokens):\n",
    "            logits, loss = self(idx, None) # logits -> 4, 8, 65\n",
    "            logits = logits[:, -1, :] # because we have to predict the next token in the sequence. it logits are present at the last location. shape = 4, 65. Weight of each character in vocabulary for last char in input for each batch\n",
    "            probs = F.softmax(logits, dim=1) # probability per batch\n",
    "            idx_next = torch.multinomial(probs, num_samples=1)\n",
    "            # print(idx_next)\n",
    "            idx = torch.cat([idx, idx_next], dim=1)\n",
    "            self.temp = idx\n",
    "        return idx\n"
   ]
  },
  {
   "cell_type": "code",
   "execution_count": 28,
   "metadata": {},
   "outputs": [
    {
     "name": "stdout",
     "output_type": "stream",
     "text": [
      "32 8 65\n"
     ]
    }
   ],
   "source": [
    "m = Model(embedding_dim)\n",
    "logits, loss = m(xb, yb)"
   ]
  },
  {
   "cell_type": "code",
   "execution_count": 15,
   "metadata": {},
   "outputs": [
    {
     "data": {
      "text/plain": [
       "tensor([ 0, 50,  7, 29, 37, 48, 58,  5, 15])"
      ]
     },
     "execution_count": 15,
     "metadata": {},
     "output_type": "execute_result"
    }
   ],
   "source": [
    "v = m.generate(torch.zeros((1, 1), dtype=torch.long), max_tokens=8)\n",
    "\n",
    "v[0]"
   ]
  },
  {
   "cell_type": "code",
   "execution_count": 16,
   "metadata": {},
   "outputs": [
    {
     "data": {
      "text/plain": [
       "tensor([[ 0, 50,  7, 29, 37, 48, 58,  5, 15]])"
      ]
     },
     "execution_count": 16,
     "metadata": {},
     "output_type": "execute_result"
    }
   ],
   "source": [
    "v"
   ]
  },
  {
   "cell_type": "code",
   "execution_count": 17,
   "metadata": {},
   "outputs": [
    {
     "data": {
      "text/plain": [
       "[[0]]"
      ]
     },
     "execution_count": 17,
     "metadata": {},
     "output_type": "execute_result"
    }
   ],
   "source": [
    "torch.zeros((1, 1), dtype=torch.long).tolist()"
   ]
  },
  {
   "cell_type": "code",
   "execution_count": 18,
   "metadata": {},
   "outputs": [
    {
     "name": "stdout",
     "output_type": "stream",
     "text": [
      "\n",
      "l-QYjt'C\n"
     ]
    }
   ],
   "source": [
    "print(decode(v[0].tolist()))"
   ]
  },
  {
   "cell_type": "code",
   "execution_count": 19,
   "metadata": {},
   "outputs": [],
   "source": [
    "batch_size = 32\n",
    "epochs = 10000\n",
    "\n",
    "optimizer = torch.optim.Adam(m.parameters(), lr=1e-3)"
   ]
  },
  {
   "cell_type": "code",
   "execution_count": 20,
   "metadata": {},
   "outputs": [
    {
     "name": "stdout",
     "output_type": "stream",
     "text": [
      "Epoch 0 Loss: 4.656340599060059\n",
      "Epoch 1000 Loss: 3.68070912361145\n",
      "Epoch 2000 Loss: 2.9998435974121094\n",
      "Epoch 3000 Loss: 2.8883938789367676\n",
      "Epoch 4000 Loss: 2.6013710498809814\n",
      "Epoch 5000 Loss: 2.461345911026001\n",
      "Epoch 6000 Loss: 2.572709560394287\n",
      "Epoch 7000 Loss: 2.422856330871582\n",
      "Epoch 8000 Loss: 2.3459699153900146\n",
      "Epoch 9000 Loss: 2.4689576625823975\n",
      "Final loss = 2.475316047668457\n"
     ]
    }
   ],
   "source": [
    "for i in range(epochs):\n",
    "    xb, yb = get_batches('train')\n",
    "    _, loss = m(xb, yb)\n",
    "    optimizer.zero_grad(set_to_none=True)\n",
    "    loss.backward()\n",
    "    optimizer.step()\n",
    "    if i % 1000 == 0:\n",
    "        print(f\"Epoch {i} Loss: {loss.item()}\")\n",
    "\n",
    "print(f\"Final loss = {loss.item()}\")"
   ]
  },
  {
   "cell_type": "code",
   "execution_count": 21,
   "metadata": {},
   "outputs": [
    {
     "data": {
      "text/plain": [
       "tensor(2.4753, grad_fn=<NllLossBackward0>)"
      ]
     },
     "execution_count": 21,
     "metadata": {},
     "output_type": "execute_result"
    }
   ],
   "source": [
    "loss"
   ]
  },
  {
   "cell_type": "code",
   "execution_count": 22,
   "metadata": {},
   "outputs": [
    {
     "name": "stdout",
     "output_type": "stream",
     "text": [
      "\n",
      "By arermet hn y, denjohece w illd CHAL, mer thoun s's:\n",
      "Thicuntilalllevise sthat dy hangilyoteng h hasbe pave pirance\n",
      "RDe hicomyonthar's\n",
      "PES:\n",
      "AKEd ith henourzincenonthioneir thondy, y heltieiengerofo'dsssit ey\n",
      "KINld pe wither vouprrouthercckehathe; d!\n",
      "My hind tt hinig t ouchos tes; st yo hind wotte grotonear 'so itJas\n",
      "Waketancothanan hay.JUCle n prids, r loncave w hollular s O:\n",
      "HIs; ht anjx?\n",
      "\n",
      "DUThineent.\n",
      "\n",
      "LaZEESTEORDY:\n",
      "h l.\n",
      "KEONGBUCHand po be y,-JZNEEYowddy scat t tridesar, wne'shenous s ls, theresseys\n",
      "PlorseelapinghienHen yof GLANCHI me. strsithisgothers je are!\n",
      "ABer wotouciullle's fldrwertho s?\n",
      "NDan'spererds cist ripl chyreer orlese;\n",
      "Yo jowhan, hecere ek? wf HEThot mowo soaf lou f;\n",
      "Ane his, t, f at. fal thetrimy tepof tor atha s y d utho fplimimave.\n",
      "NENTIt cir selle p wie wede\n",
      "Ro n apenor f'Y toverawitys an sh d w t e w!\n",
      "CELINoretoaveE IINGAwe n ck. cung.\n",
      "ORDUSURes hacin benqurd bll, d a r w wistatsowor ath\n",
      "Fivet bloll ail aror;\n",
      "ARKIO:\n",
      "My f tsce larry t I Ane szy t\n",
      "A hy thit,\n",
      "n.\n",
      "Faure\n"
     ]
    }
   ],
   "source": [
    "v = m.generate(torch.zeros((1, 1), dtype=torch.long), max_tokens=1000)\n",
    "print(decode(v[0].tolist()))"
   ]
  },
  {
   "cell_type": "markdown",
   "metadata": {},
   "source": [
    "# temp trails"
   ]
  },
  {
   "cell_type": "code",
   "execution_count": 23,
   "metadata": {},
   "outputs": [],
   "source": [
    "arr = [\n",
    "    [[2,3,4], [2,3,4], [2,3,4],[2,3,4],[2,3,4],[2,3,4],[2,3,4],[2,3,4],[2543,3,4],[2,332,4]],\n",
    "    [[2,3,4], [2,3,4], [2,3,4],[2,3,4],[2,3,4],[2,3,4],[2,3,4],[2,3,4],[2543,3,4],[2,332,4]],\n",
    "    [[12,3,4], [12,3,4], [12,3,4],[12,3,4],[12,3,4],[12,3,4],[12,3,4],[12,3,4],[12,3,4],[12,332,4]],\n",
    "    [[21,3,4], [2,13,4], [2,31,4],[2,3,14],[2,3,41],[2,3,4],[21,3,4],[2543,3,4],[12,3,4],[21,332,4]]\n",
    "]\n",
    "\n",
    "temp = torch.stack([torch.tensor(ix) for ix in [i for i in arr]])\n"
   ]
  },
  {
   "cell_type": "code",
   "execution_count": 24,
   "metadata": {},
   "outputs": [
    {
     "data": {
      "text/plain": [
       "(torch.Size([4, 10, 3]),\n",
       " torch.Size([10, 3]),\n",
       " torch.Size([3, 10, 3]),\n",
       " torch.Size([4, 3]))"
      ]
     },
     "execution_count": 24,
     "metadata": {},
     "output_type": "execute_result"
    }
   ],
   "source": [
    "temp.shape, temp[-1].shape, temp[: -1].shape, temp[:, -1, :].shape"
   ]
  },
  {
   "cell_type": "code",
   "execution_count": 25,
   "metadata": {},
   "outputs": [
    {
     "data": {
      "text/plain": [
       "(tensor([[ 2,  3,  4],\n",
       "         [ 2,  3,  4],\n",
       "         [12,  3,  4],\n",
       "         [ 2, 13,  4]]),\n",
       " torch.Size([4, 3]))"
      ]
     },
     "execution_count": 25,
     "metadata": {},
     "output_type": "execute_result"
    }
   ],
   "source": [
    "temp[:, 1, :], temp[:, 1, :].shape"
   ]
  },
  {
   "cell_type": "code",
   "execution_count": 26,
   "metadata": {},
   "outputs": [
    {
     "data": {
      "text/plain": [
       "torch.Size([3, 10, 3])"
      ]
     },
     "execution_count": 26,
     "metadata": {},
     "output_type": "execute_result"
    }
   ],
   "source": [
    "temp[: -1].shape"
   ]
  },
  {
   "cell_type": "code",
   "execution_count": null,
   "metadata": {},
   "outputs": [],
   "source": []
  }
 ],
 "metadata": {
  "kernelspec": {
   "display_name": "Python 3",
   "language": "python",
   "name": "python3"
  },
  "language_info": {
   "codemirror_mode": {
    "name": "ipython",
    "version": 3
   },
   "file_extension": ".py",
   "mimetype": "text/x-python",
   "name": "python",
   "nbconvert_exporter": "python",
   "pygments_lexer": "ipython3",
   "version": "3.10.12"
  }
 },
 "nbformat": 4,
 "nbformat_minor": 2
}
